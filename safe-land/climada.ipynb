{
 "cells": [
  {
   "cell_type": "code",
   "execution_count": 3,
   "id": "9a12fa64",
   "metadata": {},
   "outputs": [],
   "source": [
    "import climada"
   ]
  },
  {
   "cell_type": "code",
   "execution_count": 4,
   "id": "a0177538",
   "metadata": {},
   "outputs": [
    {
     "ename": "ImportError",
     "evalue": "cannot import name 'Flood' from 'climada.hazard' (/Users/lorenzo/coding/swissAiWeeks/safe-land/.conda/lib/python3.11/site-packages/climada/hazard/__init__.py)",
     "output_type": "error",
     "traceback": [
      "\u001b[31m---------------------------------------------------------------------------\u001b[39m",
      "\u001b[31mImportError\u001b[39m                               Traceback (most recent call last)",
      "\u001b[36mCell\u001b[39m\u001b[36m \u001b[39m\u001b[32mIn[4]\u001b[39m\u001b[32m, line 1\u001b[39m\n\u001b[32m----> \u001b[39m\u001b[32m1\u001b[39m \u001b[38;5;28;01mfrom\u001b[39;00m\u001b[38;5;250m \u001b[39m\u001b[34;01mclimada\u001b[39;00m\u001b[34;01m.\u001b[39;00m\u001b[34;01mhazard\u001b[39;00m\u001b[38;5;250m \u001b[39m\u001b[38;5;28;01mimport\u001b[39;00m Flood\n\u001b[32m      3\u001b[39m flood = Flood()\n\u001b[32m      4\u001b[39m flood.set_from_raster(file_path=\u001b[33m'\u001b[39m\u001b[33mflood_hazard_map.tif\u001b[39m\u001b[33m'\u001b[39m, event_id=\u001b[32m1\u001b[39m)\n",
      "\u001b[31mImportError\u001b[39m: cannot import name 'Flood' from 'climada.hazard' (/Users/lorenzo/coding/swissAiWeeks/safe-land/.conda/lib/python3.11/site-packages/climada/hazard/__init__.py)"
     ]
    }
   ],
   "source": [
    "from climada.hazard import Flood\n",
    "\n",
    "flood = Flood()\n",
    "flood.set_from_raster(file_path='flood_hazard_map.tif', event_id=1)\n"
   ]
  },
  {
   "cell_type": "code",
   "execution_count": null,
   "id": "833ff453",
   "metadata": {},
   "outputs": [],
   "source": []
  },
  {
   "cell_type": "code",
   "execution_count": 7,
   "id": "ed0b811d",
   "metadata": {},
   "outputs": [
    {
     "name": "stdout",
     "output_type": "stream",
     "text": [
      "Empty DataFrame\n",
      "Columns: []\n",
      "Index: []\n"
     ]
    }
   ],
   "source": [
    "from SPARQLWrapper import SPARQLWrapper, JSON\n",
    "import pandas as pd\n",
    "\n",
    "# Define the endpoint\n",
    "sparql = SPARQLWrapper(\"https://politics.ld.admin.ch/query/\")\n",
    "sparql.setReturnFormat(JSON)\n",
    "\n",
    "# Example query: get water level data (you’ll need to customize this)\n",
    "sparql.setQuery(\"\"\"\n",
    "PREFIX dct: <http://purl.org/dc/terms/>\n",
    "SELECT ?station ?value ?date\n",
    "WHERE {\n",
    "  ?obs dct:subject ?station ;\n",
    "       dct:date ?date ;\n",
    "       dct:description ?value .\n",
    "}\n",
    "LIMIT 100\n",
    "\"\"\")\n",
    "\n",
    "# Execute and parse results\n",
    "results = sparql.query().convert()\n",
    "data = [\n",
    "    {\n",
    "        \"station\": r[\"station\"][\"value\"],\n",
    "        \"value\": r[\"value\"][\"value\"],\n",
    "        \"date\": r[\"date\"][\"value\"]\n",
    "    }\n",
    "    for r in results[\"results\"][\"bindings\"]\n",
    "]\n",
    "\n",
    "df = pd.DataFrame(data)\n",
    "print(df.head())\n"
   ]
  },
  {
   "cell_type": "code",
   "execution_count": null,
   "id": "b49cf840",
   "metadata": {},
   "outputs": [
    {
     "ename": "KeyError",
     "evalue": "'station'",
     "output_type": "error",
     "traceback": [
      "\u001b[31m---------------------------------------------------------------------------\u001b[39m",
      "\u001b[31mKeyError\u001b[39m                                  Traceback (most recent call last)",
      "\u001b[36mCell\u001b[39m\u001b[36m \u001b[39m\u001b[32mIn[8]\u001b[39m\u001b[32m, line 20\u001b[39m\n\u001b[32m     18\u001b[39m \u001b[38;5;66;03m# Execute and parse results\u001b[39;00m\n\u001b[32m     19\u001b[39m results = sparql.query().convert()\n\u001b[32m---> \u001b[39m\u001b[32m20\u001b[39m data = \u001b[43m[\u001b[49m\n\u001b[32m     21\u001b[39m \u001b[43m    \u001b[49m\u001b[43m{\u001b[49m\n\u001b[32m     22\u001b[39m \u001b[43m        \u001b[49m\u001b[33;43m\"\u001b[39;49m\u001b[33;43mstation\u001b[39;49m\u001b[33;43m\"\u001b[39;49m\u001b[43m:\u001b[49m\u001b[43m \u001b[49m\u001b[43mr\u001b[49m\u001b[43m[\u001b[49m\u001b[33;43m\"\u001b[39;49m\u001b[33;43mstation\u001b[39;49m\u001b[33;43m\"\u001b[39;49m\u001b[43m]\u001b[49m\u001b[43m[\u001b[49m\u001b[33;43m\"\u001b[39;49m\u001b[33;43mvalue\u001b[39;49m\u001b[33;43m\"\u001b[39;49m\u001b[43m]\u001b[49m\u001b[43m,\u001b[49m\n\u001b[32m     23\u001b[39m \u001b[43m        \u001b[49m\u001b[33;43m\"\u001b[39;49m\u001b[33;43mvalue\u001b[39;49m\u001b[33;43m\"\u001b[39;49m\u001b[43m:\u001b[49m\u001b[43m \u001b[49m\u001b[43mr\u001b[49m\u001b[43m[\u001b[49m\u001b[33;43m\"\u001b[39;49m\u001b[33;43mvalue\u001b[39;49m\u001b[33;43m\"\u001b[39;49m\u001b[43m]\u001b[49m\u001b[43m[\u001b[49m\u001b[33;43m\"\u001b[39;49m\u001b[33;43mvalue\u001b[39;49m\u001b[33;43m\"\u001b[39;49m\u001b[43m]\u001b[49m\u001b[43m,\u001b[49m\n\u001b[32m     24\u001b[39m \u001b[43m        \u001b[49m\u001b[33;43m\"\u001b[39;49m\u001b[33;43mdate\u001b[39;49m\u001b[33;43m\"\u001b[39;49m\u001b[43m:\u001b[49m\u001b[43m \u001b[49m\u001b[43mr\u001b[49m\u001b[43m[\u001b[49m\u001b[33;43m\"\u001b[39;49m\u001b[33;43mdate\u001b[39;49m\u001b[33;43m\"\u001b[39;49m\u001b[43m]\u001b[49m\u001b[43m[\u001b[49m\u001b[33;43m\"\u001b[39;49m\u001b[33;43mvalue\u001b[39;49m\u001b[33;43m\"\u001b[39;49m\u001b[43m]\u001b[49m\n\u001b[32m     25\u001b[39m \u001b[43m    \u001b[49m\u001b[43m}\u001b[49m\n\u001b[32m     26\u001b[39m \u001b[43m    \u001b[49m\u001b[38;5;28;43;01mfor\u001b[39;49;00m\u001b[43m \u001b[49m\u001b[43mr\u001b[49m\u001b[43m \u001b[49m\u001b[38;5;129;43;01min\u001b[39;49;00m\u001b[43m \u001b[49m\u001b[43mresults\u001b[49m\u001b[43m[\u001b[49m\u001b[33;43m\"\u001b[39;49m\u001b[33;43mresults\u001b[39;49m\u001b[33;43m\"\u001b[39;49m\u001b[43m]\u001b[49m\u001b[43m[\u001b[49m\u001b[33;43m\"\u001b[39;49m\u001b[33;43mbindings\u001b[39;49m\u001b[33;43m\"\u001b[39;49m\u001b[43m]\u001b[49m\n\u001b[32m     27\u001b[39m \u001b[43m]\u001b[49m\n\u001b[32m     29\u001b[39m df = pd.DataFrame(data)\n\u001b[32m     30\u001b[39m \u001b[38;5;28mprint\u001b[39m(df.head())\n",
      "\u001b[36mCell\u001b[39m\u001b[36m \u001b[39m\u001b[32mIn[8]\u001b[39m\u001b[32m, line 22\u001b[39m, in \u001b[36m<listcomp>\u001b[39m\u001b[34m(.0)\u001b[39m\n\u001b[32m     18\u001b[39m \u001b[38;5;66;03m# Execute and parse results\u001b[39;00m\n\u001b[32m     19\u001b[39m results = sparql.query().convert()\n\u001b[32m     20\u001b[39m data = [\n\u001b[32m     21\u001b[39m     {\n\u001b[32m---> \u001b[39m\u001b[32m22\u001b[39m         \u001b[33m\"\u001b[39m\u001b[33mstation\u001b[39m\u001b[33m\"\u001b[39m: \u001b[43mr\u001b[49m\u001b[43m[\u001b[49m\u001b[33;43m\"\u001b[39;49m\u001b[33;43mstation\u001b[39;49m\u001b[33;43m\"\u001b[39;49m\u001b[43m]\u001b[49m[\u001b[33m\"\u001b[39m\u001b[33mvalue\u001b[39m\u001b[33m\"\u001b[39m],\n\u001b[32m     23\u001b[39m         \u001b[33m\"\u001b[39m\u001b[33mvalue\u001b[39m\u001b[33m\"\u001b[39m: r[\u001b[33m\"\u001b[39m\u001b[33mvalue\u001b[39m\u001b[33m\"\u001b[39m][\u001b[33m\"\u001b[39m\u001b[33mvalue\u001b[39m\u001b[33m\"\u001b[39m],\n\u001b[32m     24\u001b[39m         \u001b[33m\"\u001b[39m\u001b[33mdate\u001b[39m\u001b[33m\"\u001b[39m: r[\u001b[33m\"\u001b[39m\u001b[33mdate\u001b[39m\u001b[33m\"\u001b[39m][\u001b[33m\"\u001b[39m\u001b[33mvalue\u001b[39m\u001b[33m\"\u001b[39m]\n\u001b[32m     25\u001b[39m     }\n\u001b[32m     26\u001b[39m     \u001b[38;5;28;01mfor\u001b[39;00m r \u001b[38;5;129;01min\u001b[39;00m results[\u001b[33m\"\u001b[39m\u001b[33mresults\u001b[39m\u001b[33m\"\u001b[39m][\u001b[33m\"\u001b[39m\u001b[33mbindings\u001b[39m\u001b[33m\"\u001b[39m]\n\u001b[32m     27\u001b[39m ]\n\u001b[32m     29\u001b[39m df = pd.DataFrame(data)\n\u001b[32m     30\u001b[39m \u001b[38;5;28mprint\u001b[39m(df.head())\n",
      "\u001b[31mKeyError\u001b[39m: 'station'"
     ]
    }
   ],
   "source": [
    "from SPARQLWrapper import SPARQLWrapper, JSON\n",
    "import pandas as pd\n",
    "\n",
    "# Define the endpoint\n",
    "sparql = SPARQLWrapper(\"https://politics.ld.admin.ch/query/\")\n",
    "sparql.setReturnFormat(JSON)\n",
    "\n",
    "# Example query: get water level data (you’ll need to customize this)\n",
    "sparql.setQuery(\"\"\"\n",
    "SELECT DISTINCT ?type\n",
    "WHERE {\n",
    "  ?s a ?type\n",
    "}\n",
    "LIMIT 100\n",
    "\n",
    "\"\"\")\n",
    "\n",
    "# Execute and parse results\n",
    "results = sparql.query().convert()\n",
    "data = [\n",
    "    {\n",
    "            \"station\": r[\"station\"][\"value\"],\n",
    "            \"value\": r[\"value\"][\"value\"],\n",
    "            \"date\": r[\"date\"][\"value\"]\n",
    "    }\n",
    "    for r in results[\"results\"][\"bindings\"]\n",
    "]\n",
    "\n",
    "df = pd.DataFrame(data)\n",
    "print(df.head())\n"
   ]
  }
 ],
 "metadata": {
  "kernelspec": {
   "display_name": ".conda",
   "language": "python",
   "name": "python3"
  },
  "language_info": {
   "codemirror_mode": {
    "name": "ipython",
    "version": 3
   },
   "file_extension": ".py",
   "mimetype": "text/x-python",
   "name": "python",
   "nbconvert_exporter": "python",
   "pygments_lexer": "ipython3",
   "version": "3.11.11"
  }
 },
 "nbformat": 4,
 "nbformat_minor": 5
}
